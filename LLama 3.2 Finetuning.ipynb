{
 "cells": [
  {
   "cell_type": "markdown",
   "metadata": {},
   "source": [
    "This notebook roughly follows [llama3-lora-finetune](https://github.com/bokoo/llama3-lora-finetune/tree/main) as a reference to finetune the 1B parameter version of LLama 3.2.\n",
    "\n",
    "It makes use of the transformers library, bitsandbytes, and peft (for LoRA)."
   ]
  }
 ],
 "metadata": {
  "kernelspec": {
   "display_name": "llm-playground",
   "language": "python",
   "name": "llm-playground"
  },
  "language_info": {
   "codemirror_mode": {
    "name": "ipython",
    "version": 3
   },
   "file_extension": ".py",
   "mimetype": "text/x-python",
   "name": "python",
   "nbconvert_exporter": "python",
   "pygments_lexer": "ipython3",
   "version": "3.13.2"
  }
 },
 "nbformat": 4,
 "nbformat_minor": 2
}
