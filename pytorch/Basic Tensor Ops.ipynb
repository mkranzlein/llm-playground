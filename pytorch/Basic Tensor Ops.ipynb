{
 "cells": [
  {
   "cell_type": "markdown",
   "metadata": {},
   "source": [
    "- Tensor creation\n",
    "    - Scratch\n",
    "    - Existing data (memory or from file)\n",
    "    - Sampling from distributions\n",
    "- Data types\n",
    "- Stack, concat\n",
    "- Squeeze, unsqueeze\n",
    "- Views and copies\n",
    "- Devices"
   ]
  }
 ],
 "metadata": {
  "language_info": {
   "name": "python"
  }
 },
 "nbformat": 4,
 "nbformat_minor": 2
}
