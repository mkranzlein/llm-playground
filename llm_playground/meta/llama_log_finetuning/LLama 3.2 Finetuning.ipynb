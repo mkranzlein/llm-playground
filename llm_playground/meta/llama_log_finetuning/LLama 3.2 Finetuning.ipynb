{
 "cells": [
  {
   "cell_type": "markdown",
   "metadata": {},
   "source": [
    "# Finetuning Llama 3.2 (1B) on Synthetic Logs\n",
    "\n",
    "A reimplementation of [bokoo/llama3-lora-finetune](https://github.com/bokoo/llama3-lora-finetune/tree/main) to get a better handle on LoRA"
   ]
  },
  {
   "cell_type": "code",
   "execution_count": null,
   "metadata": {},
   "outputs": [],
   "source": [
    "import torch\n",
    "import torch.nn as nn\n",
    "import transformers\n",
    "from datasets import load_dataset\n",
    "from peft import get_peft_model, LoraConfig\n",
    "from transformers import AutoModelForCausalLM, AutoTokenizer, BitsAndBytesConfig"
   ]
  },
  {
   "cell_type": "markdown",
   "metadata": {},
   "source": [
    "## Load dataset"
   ]
  },
  {
   "cell_type": "markdown",
   "metadata": {},
   "source": [
    "## Tokenize"
   ]
  },
  {
   "cell_type": "markdown",
   "metadata": {},
   "source": [
    "## Load model\n",
    "\n",
    "[Model card](https://www.llama.com/docs/model-cards-and-prompt-formats/llama3_2/) from Meta\n"
   ]
  },
  {
   "cell_type": "markdown",
   "metadata": {},
   "source": [
    "### Quantize\n",
    "TODO: install bitsandbytes?\n",
    "\n",
    "Helpful resources:\n",
    "- https://colab.research.google.com/drive/1ge2F1QSK8Q7h0hn3YKuBCOAS0bK8E0wf\n",
    "- https://huggingface.co/blog/4bit-transformers-bitsandbytes\n",
    "\n",
    "[BF16](https://cloud.google.com/blog/products/ai-machine-learning/bfloat16-the-secret-to-high-performance-on-cloud-tpus): (Google) Brain Floating Point Format. Same 16 bits as typical IEEE FP16, but split `[1, 8, 7]` for sign, exponent, and mantissa. FP16 is `[1, 5, 10]`. BF16 covers same range as FP32, but has a much smaller mantissa."
   ]
  },
  {
   "cell_type": "markdown",
   "metadata": {},
   "source": [
    "\n",
    "### Create LoRA wrapper"
   ]
  }
 ],
 "metadata": {
  "kernelspec": {
   "display_name": "llm-playground",
   "language": "python",
   "name": "llm-playground"
  },
  "language_info": {
   "codemirror_mode": {
    "name": "ipython",
    "version": 3
   },
   "file_extension": ".py",
   "mimetype": "text/x-python",
   "name": "python",
   "nbconvert_exporter": "python",
   "pygments_lexer": "ipython3",
   "version": "3.13.2"
  }
 },
 "nbformat": 4,
 "nbformat_minor": 2
}
